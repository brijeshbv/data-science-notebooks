{
 "cells": [
  {
   "cell_type": "code",
   "execution_count": 71,
   "id": "2fb2120d",
   "metadata": {},
   "outputs": [],
   "source": [
    "from pgmpy.factors.discrete import TabularCPD\n",
    "\n",
    "from pgmpy.models import BayesianNetwork\n",
    "\n",
    "from pgmpy.sampling import GibbsSampling"
   ]
  },
  {
   "cell_type": "code",
   "execution_count": 96,
   "id": "d2bb77ad",
   "metadata": {},
   "outputs": [],
   "source": [
    "\n",
    "intel_cpd = TabularCPD('intel', 2, [[0.5], [0.5]])\n",
    "grade_cpd = TabularCPD('grade', 2, [[0.99, 0.01], [0.01, 0.99]],\n",
    "                       evidence=['intel'], evidence_card=[2])\n",
    "bayesian_model = BayesianNetwork()\n",
    "bayesian_model.add_nodes_from([ 'intel', 'grade'])\n",
    "bayesian_model.add_edges_from([('intel', 'grade')])\n",
    "bayesian_model.add_cpds(intel_cpd, grade_cpd)\n"
   ]
  },
  {
   "cell_type": "code",
   "execution_count": 97,
   "id": "eb636a5d",
   "metadata": {},
   "outputs": [
    {
     "data": {
      "application/vnd.jupyter.widget-view+json": {
       "model_id": "fb21e4fb70794aa4a3f88ae43b475df3",
       "version_major": 2,
       "version_minor": 0
      },
      "text/plain": [
       "  0%|          | 0/1999 [00:00<?, ?it/s]"
      ]
     },
     "metadata": {},
     "output_type": "display_data"
    },
    {
     "name": "stdout",
     "output_type": "stream",
     "text": [
      "intel\n",
      "1    0.54\n",
      "0    0.46\n",
      "Name: proportion, dtype: float64\n",
      "grade\n",
      "1    0.5405\n",
      "0    0.4595\n",
      "Name: proportion, dtype: float64\n"
     ]
    }
   ],
   "source": [
    "gibbs = GibbsSampling(bayesian_model)\n",
    "samples = gibbs.sample(size=2000)\n",
    "intel_samples = samples['intel'].value_counts(normalize=True)\n",
    "grade_samples = samples['grade'].value_counts(normalize=True)\n",
    "print(intel_samples)\n",
    "print(grade_samples)"
   ]
  },
  {
   "cell_type": "code",
   "execution_count": null,
   "id": "764030b7",
   "metadata": {},
   "outputs": [],
   "source": []
  }
 ],
 "metadata": {
  "kernelspec": {
   "display_name": "Python 3 (ipykernel)",
   "language": "python",
   "name": "python3"
  },
  "language_info": {
   "codemirror_mode": {
    "name": "ipython",
    "version": 3
   },
   "file_extension": ".py",
   "mimetype": "text/x-python",
   "name": "python",
   "nbconvert_exporter": "python",
   "pygments_lexer": "ipython3",
   "version": "3.9.16"
  }
 },
 "nbformat": 4,
 "nbformat_minor": 5
}
