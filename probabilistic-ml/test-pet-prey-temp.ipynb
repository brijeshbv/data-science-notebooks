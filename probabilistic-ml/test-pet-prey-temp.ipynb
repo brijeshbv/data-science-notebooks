{
 "cells": [
  {
   "cell_type": "code",
   "execution_count": 6,
   "id": "2fb2120d",
   "metadata": {},
   "outputs": [],
   "source": [
    "from pgmpy.factors.discrete import TabularCPD\n",
    "\n",
    "from pgmpy.models import BayesianNetwork\n",
    "\n",
    "from pgmpy.sampling import GibbsSampling"
   ]
  },
  {
   "cell_type": "code",
   "execution_count": 7,
   "id": "d2bb77ad",
   "metadata": {},
   "outputs": [],
   "source": [
    "\n",
    "temp_cpd = TabularCPD('temp', 2, [[0.2], [0.8]])\n",
    "prey_cpd = TabularCPD('prey', 2, [[0.3], [0.7]])\n",
    "pet_cpd = TabularCPD('pet', 2, [[0.3, 0.7,0.3, 0.7], [0.7, 0.3,0.7, 0.3]],\n",
    "                       evidence=['temp', 'prey'], evidence_card=[2, 2])\n",
    "\n",
    "bayesian_model = BayesianNetwork()\n",
    "bayesian_model.add_nodes_from([ 'pet', 'prey', 'temp'])\n",
    "bayesian_model.add_edges_from([('temp', 'pet'), ('prey', 'pet')])\n",
    "bayesian_model.add_cpds(temp_cpd, prey_cpd, pet_cpd)\n"
   ]
  },
  {
   "cell_type": "code",
   "execution_count": 8,
   "id": "5d76bb6c",
   "metadata": {},
   "outputs": [],
   "source": [
    "\n",
    "gibbs = GibbsSampling(bayesian_model)\n",
    "samples = gibbs.generate_sample(size=200)\n"
   ]
  },
  {
   "cell_type": "code",
   "execution_count": 9,
   "id": "eb636a5d",
   "metadata": {},
   "outputs": [
    {
     "name": "stderr",
     "output_type": "stream",
     "text": [
      "/Users/brijeshbv/opt/miniconda3/envs/bayes/lib/python3.9/site-packages/pgmpy/utils/mathext.py:82: UserWarning: Probability values don't exactly sum to 1. Differ by: 1.1102230246251565e-16. Adjusting values.\n",
      "  warn(\n"
     ]
    }
   ],
   "source": [
    "import csv\n",
    "\n",
    "with open('op-pet-prey-temp.csv', 'w', newline='') as file:\n",
    "    writer = csv.writer(file)\n",
    "    writer.writerow(['pet','prey','temp'])\n",
    "    for sample in samples:\n",
    "        writer.writerow([sample[0].state,sample[1].state, sample[2].state])"
   ]
  },
  {
   "cell_type": "code",
   "execution_count": 10,
   "id": "764030b7",
   "metadata": {},
   "outputs": [
    {
     "data": {
      "text/html": [
       "<div>\n",
       "<style scoped>\n",
       "    .dataframe tbody tr th:only-of-type {\n",
       "        vertical-align: middle;\n",
       "    }\n",
       "\n",
       "    .dataframe tbody tr th {\n",
       "        vertical-align: top;\n",
       "    }\n",
       "\n",
       "    .dataframe thead th {\n",
       "        text-align: right;\n",
       "    }\n",
       "</style>\n",
       "<table border=\"1\" class=\"dataframe\">\n",
       "  <thead>\n",
       "    <tr style=\"text-align: right;\">\n",
       "      <th></th>\n",
       "      <th>pet</th>\n",
       "      <th>prey</th>\n",
       "      <th>temp</th>\n",
       "    </tr>\n",
       "  </thead>\n",
       "  <tbody>\n",
       "    <tr>\n",
       "      <th>0</th>\n",
       "      <td>0</td>\n",
       "      <td>1</td>\n",
       "      <td>1</td>\n",
       "    </tr>\n",
       "    <tr>\n",
       "      <th>1</th>\n",
       "      <td>0</td>\n",
       "      <td>1</td>\n",
       "      <td>1</td>\n",
       "    </tr>\n",
       "    <tr>\n",
       "      <th>2</th>\n",
       "      <td>1</td>\n",
       "      <td>0</td>\n",
       "      <td>1</td>\n",
       "    </tr>\n",
       "    <tr>\n",
       "      <th>3</th>\n",
       "      <td>1</td>\n",
       "      <td>1</td>\n",
       "      <td>1</td>\n",
       "    </tr>\n",
       "    <tr>\n",
       "      <th>4</th>\n",
       "      <td>1</td>\n",
       "      <td>0</td>\n",
       "      <td>1</td>\n",
       "    </tr>\n",
       "  </tbody>\n",
       "</table>\n",
       "</div>"
      ],
      "text/plain": [
       "   pet  prey  temp\n",
       "0    0     1     1\n",
       "1    0     1     1\n",
       "2    1     0     1\n",
       "3    1     1     1\n",
       "4    1     0     1"
      ]
     },
     "execution_count": 10,
     "metadata": {},
     "output_type": "execute_result"
    }
   ],
   "source": [
    "import numpy as np\n",
    "import pandas as pd\n",
    "import pgmpy as mpy\n",
    "data = pd.read_csv('op-pet-prey-temp.csv')\n",
    "data[:5]"
   ]
  },
  {
   "cell_type": "code",
   "execution_count": 11,
   "id": "b7a8594b",
   "metadata": {},
   "outputs": [],
   "source": [
    "from pgmpy.models import BayesianNetwork\n",
    "from pgmpy.factors.discrete import TabularCPD\n",
    "from pgmpy.estimators import BayesianEstimator\n",
    "from pgmpy.estimators import MmhcEstimator\n",
    "from pgmpy.estimators import BDeuScore, HillClimbSearch\n"
   ]
  },
  {
   "cell_type": "code",
   "execution_count": 12,
   "id": "4941aac0",
   "metadata": {},
   "outputs": [
    {
     "name": "stdout",
     "output_type": "stream",
     "text": [
      "Part 1) Skeleton:  [('pet', 'prey')]\n"
     ]
    },
    {
     "data": {
      "application/vnd.jupyter.widget-view+json": {
       "model_id": "0ffc2df9c68941e085ffcdd3a65d8717",
       "version_major": 2,
       "version_minor": 0
      },
      "text/plain": [
       "  0%|          | 0/1000000 [00:00<?, ?it/s]"
      ]
     },
     "metadata": {},
     "output_type": "display_data"
    },
    {
     "name": "stdout",
     "output_type": "stream",
     "text": [
      "Part 2) Model:     [('prey', 'pet')]\n"
     ]
    }
   ],
   "source": [
    "\n",
    "mmhc = MmhcEstimator(data)\n",
    "skeleton = mmhc.mmpc()\n",
    "print(\"Part 1) Skeleton: \", skeleton.edges())\n",
    "hc = HillClimbSearch(data)\n",
    "model = hc.estimate(scoring_method=BDeuScore(data), white_list=skeleton.to_directed().edges())\n",
    "print(\"Part 2) Model:    \", model.edges())"
   ]
  },
  {
   "cell_type": "code",
   "execution_count": null,
   "id": "95ec89e6",
   "metadata": {},
   "outputs": [],
   "source": []
  }
 ],
 "metadata": {
  "kernelspec": {
   "display_name": "Python 3 (ipykernel)",
   "language": "python",
   "name": "python3"
  },
  "language_info": {
   "codemirror_mode": {
    "name": "ipython",
    "version": 3
   },
   "file_extension": ".py",
   "mimetype": "text/x-python",
   "name": "python",
   "nbconvert_exporter": "python",
   "pygments_lexer": "ipython3",
   "version": "3.9.16"
  }
 },
 "nbformat": 4,
 "nbformat_minor": 5
}
