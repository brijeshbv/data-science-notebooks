{
 "cells": [
  {
   "cell_type": "code",
   "execution_count": 1,
   "id": "8eddb45f",
   "metadata": {},
   "outputs": [],
   "source": [
    "import numpy as np\n",
    "import pandas as pd\n",
    "import pgmpy as mpy\n",
    "from pgmpy.estimators import MmhcEstimator\n",
    "from pgmpy.estimators import BDeuScore, HillClimbSearch\n",
    "from pgmpy.models import BayesianNetwork\n",
    "from pgmpy.factors.discrete import TabularCPD\n",
    "from pgmpy.estimators import BayesianEstimator"
   ]
  },
  {
   "cell_type": "code",
   "execution_count": 2,
   "id": "545ffe42",
   "metadata": {},
   "outputs": [],
   "source": [
    "data = pd.read_csv('pet-prey-temp.txt', sep='\\t')"
   ]
  },
  {
   "cell_type": "markdown",
   "id": "f2d97949",
   "metadata": {},
   "source": [
    "## Create probabilities from data"
   ]
  },
  {
   "cell_type": "code",
   "execution_count": 3,
   "id": "86b94623",
   "metadata": {},
   "outputs": [],
   "source": [
    "\n",
    "b_model1 = BayesianNetwork([('pet','prey'),('temp','prey')])\n",
    "b_model2 = BayesianNetwork([('temp','prey'), ('pet','prey'),('temp','pet')])\n",
    "b_model3 = BayesianNetwork([('prey','temp'), ('prey','pet')])\n",
    "b_model4 = BayesianNetwork([('prey','pet'), ('pet','temp')])"
   ]
  },
  {
   "cell_type": "code",
   "execution_count": 4,
   "id": "a38bd57a",
   "metadata": {},
   "outputs": [
    {
     "name": "stdout",
     "output_type": "stream",
     "text": [
      "+----------+----------+\n",
      "| pet(cat) | 0.412438 |\n",
      "+----------+----------+\n",
      "| pet(dog) | 0.587562 |\n",
      "+----------+----------+\n",
      "+---------------+-----+---------------------+\n",
      "| pet           | ... | pet(dog)            |\n",
      "+---------------+-----+---------------------+\n",
      "| temp          | ... | temp(warm)          |\n",
      "+---------------+-----+---------------------+\n",
      "| prey(mouse)   | ... | 0.34216335540838855 |\n",
      "+---------------+-----+---------------------+\n",
      "| prey(skink)   | ... | 0.26269315673289184 |\n",
      "+---------------+-----+---------------------+\n",
      "| prey(sparrow) | ... | 0.39514348785871967 |\n",
      "+---------------+-----+---------------------+\n",
      "+------------+----------+\n",
      "| temp(cold) | 0.521891 |\n",
      "+------------+----------+\n",
      "| temp(warm) | 0.478109 |\n",
      "+------------+----------+\n"
     ]
    }
   ],
   "source": [
    "b_model1.fit(data, estimator=BayesianEstimator, prior_type=\"BDeu\") # default equivalent_sample_size=5\n",
    "b_model2.fit(data, estimator=BayesianEstimator, prior_type=\"BDeu\")\n",
    "b_model3.fit(data, estimator=BayesianEstimator, prior_type=\"BDeu\")\n",
    "b_model4.fit(data, estimator=BayesianEstimator, prior_type=\"BDeu\")\n",
    "\n",
    "for cpd in b_model1.get_cpds():\n",
    "    print(cpd)"
   ]
  },
  {
   "cell_type": "markdown",
   "id": "c3320278",
   "metadata": {},
   "source": [
    "## scores of the model"
   ]
  },
  {
   "cell_type": "code",
   "execution_count": 5,
   "id": "28b7f093",
   "metadata": {},
   "outputs": [
    {
     "name": "stdout",
     "output_type": "stream",
     "text": [
      "-2480.726302901032\n",
      "-2480.4096208174105\n",
      "-2476.95215314132\n",
      "-2472.3617132710797\n"
     ]
    }
   ],
   "source": [
    "from pgmpy.estimators import BDeuScore, K2Score, BicScore\n",
    "\n",
    "\n",
    "bdeu = BDeuScore(data)\n",
    "\n",
    "print(bdeu.score(b_model1))\n",
    "print(bdeu.score(b_model2))\n",
    "print(bdeu.score(b_model3))\n",
    "print(bdeu.score(b_model4))"
   ]
  },
  {
   "cell_type": "code",
   "execution_count": 8,
   "id": "de14ce6a",
   "metadata": {},
   "outputs": [
    {
     "data": {
      "application/vnd.jupyter.widget-view+json": {
       "model_id": "5cfeb08949284bc8b6141e7164ae86da",
       "version_major": 2,
       "version_minor": 0
      },
      "text/plain": [
       "  0%|          | 0/1000000 [00:00<?, ?it/s]"
      ]
     },
     "metadata": {},
     "output_type": "display_data"
    },
    {
     "name": "stdout",
     "output_type": "stream",
     "text": [
      "Part 2) Model:     [('pet', 'temp'), ('prey', 'pet')]\n"
     ]
    }
   ],
   "source": [
    "\n",
    "hc = HillClimbSearch(data)\n",
    "model = hc.estimate(scoring_method=BDeuScore(data))\n",
    "print(\"Part 2) Model:    \", model.edges())"
   ]
  },
  {
   "cell_type": "code",
   "execution_count": null,
   "id": "7fb5500b",
   "metadata": {},
   "outputs": [],
   "source": []
  }
 ],
 "metadata": {
  "kernelspec": {
   "display_name": "Python 3 (ipykernel)",
   "language": "python",
   "name": "python3"
  },
  "language_info": {
   "codemirror_mode": {
    "name": "ipython",
    "version": 3
   },
   "file_extension": ".py",
   "mimetype": "text/x-python",
   "name": "python",
   "nbconvert_exporter": "python",
   "pygments_lexer": "ipython3",
   "version": "3.9.16"
  }
 },
 "nbformat": 4,
 "nbformat_minor": 5
}
