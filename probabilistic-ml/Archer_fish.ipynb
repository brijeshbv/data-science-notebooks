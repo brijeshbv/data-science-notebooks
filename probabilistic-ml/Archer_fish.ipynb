{
 "cells": [
  {
   "cell_type": "code",
   "execution_count": 41,
   "id": "ad481bb2",
   "metadata": {},
   "outputs": [],
   "source": [
    "import numpy as np"
   ]
  },
  {
   "cell_type": "code",
   "execution_count": 68,
   "id": "8044d561",
   "metadata": {},
   "outputs": [
    {
     "name": "stdout",
     "output_type": "stream",
     "text": [
      "[0.95238095 2.76923077] [[0.23809524 0.        ]\n",
      " [0.         0.23076923]]\n"
     ]
    },
    {
     "name": "stderr",
     "output_type": "stream",
     "text": [
      "/var/folders/6g/4r3hv98n7rd_59qnh959zrsw0000gn/T/ipykernel_7315/3477180465.py:8: RuntimeWarning: divide by zero encountered in true_divide\n",
      "  sigma_y_inv = 1/sigma_y\n"
     ]
    }
   ],
   "source": [
    "m_y = np.array([0, 0])\n",
    "sigma_y = np.array([[5, 0], [0, 3]])\n",
    "m_eps = np.array([0, 0])\n",
    "sigma_eps = np.array([[0.25, 1],[1, 0.25]])\n",
    "k= sigma_eps / (sigma_y + sigma_eps)\n",
    "y_hat = np.array([1,3])\n",
    "m_y_post = np.dot(k , m_y.T) + np.dot((1 -k) ,y_hat.T)\n",
    "sigma_y_inv = 1/sigma_y\n",
    "sigma_eps_inv = 1 /sigma_eps\n",
    "\n",
    "sigma_y_post = 1/(sigma_y_inv+ sigma_eps_inv)\n",
    "print(m_y_post, sigma_y_post)"
   ]
  },
  {
   "cell_type": "code",
   "execution_count": 7,
   "id": "17cd139d",
   "metadata": {},
   "outputs": [
    {
     "data": {
      "text/plain": [
       "array([[0.04761905, 1.        ],\n",
       "       [1.        , 0.07692308]])"
      ]
     },
     "execution_count": 7,
     "metadata": {},
     "output_type": "execute_result"
    }
   ],
   "source": []
  },
  {
   "cell_type": "code",
   "execution_count": 20,
   "id": "23b21a3f",
   "metadata": {},
   "outputs": [
    {
     "name": "stdout",
     "output_type": "stream",
     "text": [
      "[0.95238095 2.76923077] [[0.23809524 0.25      ]\n",
      " [0.25       0.23076923]]\n"
     ]
    }
   ],
   "source": []
  },
  {
   "cell_type": "code",
   "execution_count": 44,
   "id": "5825585a",
   "metadata": {},
   "outputs": [
    {
     "ename": "ValueError",
     "evalue": "Input must be a rank-1 array.",
     "output_type": "error",
     "traceback": [
      "\u001b[0;31m---------------------------------------------------------------------------\u001b[0m",
      "\u001b[0;31mValueError\u001b[0m                                Traceback (most recent call last)",
      "Cell \u001b[0;32mIn[44], line 12\u001b[0m\n\u001b[1;32m      9\u001b[0m m2 \u001b[38;5;241m=\u001b[39m np\u001b[38;5;241m.\u001b[39marray([\u001b[38;5;241m2\u001b[39m, \u001b[38;5;241m-\u001b[39m\u001b[38;5;241m2\u001b[39m])\n\u001b[1;32m     10\u001b[0m sigma_2 \u001b[38;5;241m=\u001b[39m np\u001b[38;5;241m.\u001b[39marray([[\u001b[38;5;241m1\u001b[39m,  \u001b[38;5;241m0.5\u001b[39m],\n\u001b[1;32m     11\u001b[0m  [\u001b[38;5;241m0.5\u001b[39m    ,   \u001b[38;5;241m1\u001b[39m]])\n\u001b[0;32m---> 12\u001b[0m \u001b[38;5;28mprint\u001b[39m(\u001b[43msolve\u001b[49m\u001b[43m(\u001b[49m\u001b[43mm1\u001b[49m\u001b[43m,\u001b[49m\u001b[43m \u001b[49m\u001b[43mm2\u001b[49m\u001b[43m,\u001b[49m\u001b[43m \u001b[49m\u001b[43msigma_1\u001b[49m\u001b[43m,\u001b[49m\u001b[43m \u001b[49m\u001b[43msigma_2\u001b[49m\u001b[43m)\u001b[49m)\n",
      "Cell \u001b[0;32mIn[44], line 5\u001b[0m, in \u001b[0;36msolve\u001b[0;34m(m1, m2, std1, std2)\u001b[0m\n\u001b[1;32m      3\u001b[0m b \u001b[38;5;241m=\u001b[39m m2\u001b[38;5;241m/\u001b[39m(std2\u001b[38;5;241m*\u001b[39m\u001b[38;5;241m*\u001b[39m\u001b[38;5;241m2\u001b[39m) \u001b[38;5;241m-\u001b[39m m1\u001b[38;5;241m/\u001b[39m(std1\u001b[38;5;241m*\u001b[39m\u001b[38;5;241m*\u001b[39m\u001b[38;5;241m2\u001b[39m)\n\u001b[1;32m      4\u001b[0m c \u001b[38;5;241m=\u001b[39m m1\u001b[38;5;241m*\u001b[39m\u001b[38;5;241m*\u001b[39m\u001b[38;5;241m2\u001b[39m \u001b[38;5;241m/\u001b[39m(\u001b[38;5;241m2\u001b[39m\u001b[38;5;241m*\u001b[39mstd1\u001b[38;5;241m*\u001b[39m\u001b[38;5;241m*\u001b[39m\u001b[38;5;241m2\u001b[39m) \u001b[38;5;241m-\u001b[39m m2\u001b[38;5;241m*\u001b[39m\u001b[38;5;241m*\u001b[39m\u001b[38;5;241m2\u001b[39m \u001b[38;5;241m/\u001b[39m (\u001b[38;5;241m2\u001b[39m\u001b[38;5;241m*\u001b[39mstd2\u001b[38;5;241m*\u001b[39m\u001b[38;5;241m*\u001b[39m\u001b[38;5;241m2\u001b[39m) \u001b[38;5;241m-\u001b[39m np\u001b[38;5;241m.\u001b[39mlog(std2\u001b[38;5;241m/\u001b[39mstd1)\n\u001b[0;32m----> 5\u001b[0m \u001b[38;5;28;01mreturn\u001b[39;00m \u001b[43mnp\u001b[49m\u001b[38;5;241;43m.\u001b[39;49m\u001b[43mroots\u001b[49m\u001b[43m(\u001b[49m\u001b[43mnp\u001b[49m\u001b[38;5;241;43m.\u001b[39;49m\u001b[43marray\u001b[49m\u001b[43m(\u001b[49m\u001b[43m[\u001b[49m\u001b[43ma\u001b[49m\u001b[43m,\u001b[49m\u001b[43mb\u001b[49m\u001b[43m,\u001b[49m\u001b[43mc\u001b[49m\u001b[43m]\u001b[49m\u001b[43m)\u001b[49m\u001b[43m)\u001b[49m\n",
      "File \u001b[0;32m<__array_function__ internals>:180\u001b[0m, in \u001b[0;36mroots\u001b[0;34m(*args, **kwargs)\u001b[0m\n",
      "File \u001b[0;32m~/opt/miniconda3/envs/bayes/lib/python3.9/site-packages/numpy/lib/polynomial.py:230\u001b[0m, in \u001b[0;36mroots\u001b[0;34m(p)\u001b[0m\n\u001b[1;32m    228\u001b[0m p \u001b[38;5;241m=\u001b[39m atleast_1d(p)\n\u001b[1;32m    229\u001b[0m \u001b[38;5;28;01mif\u001b[39;00m p\u001b[38;5;241m.\u001b[39mndim \u001b[38;5;241m!=\u001b[39m \u001b[38;5;241m1\u001b[39m:\n\u001b[0;32m--> 230\u001b[0m     \u001b[38;5;28;01mraise\u001b[39;00m \u001b[38;5;167;01mValueError\u001b[39;00m(\u001b[38;5;124m\"\u001b[39m\u001b[38;5;124mInput must be a rank-1 array.\u001b[39m\u001b[38;5;124m\"\u001b[39m)\n\u001b[1;32m    232\u001b[0m \u001b[38;5;66;03m# find non-zero array entries\u001b[39;00m\n\u001b[1;32m    233\u001b[0m non_zero \u001b[38;5;241m=\u001b[39m NX\u001b[38;5;241m.\u001b[39mnonzero(NX\u001b[38;5;241m.\u001b[39mravel(p))[\u001b[38;5;241m0\u001b[39m]\n",
      "\u001b[0;31mValueError\u001b[0m: Input must be a rank-1 array."
     ]
    }
   ],
   "source": [
    "\n",
    "def solve(m1,m2,std1,std2):\n",
    "  a = 1/(2*std1**2) - 1/(2*std2**2)\n",
    "  b = m2/(std2**2) - m1/(std1**2)\n",
    "  c = m1**2 /(2*std1**2) - m2**2 / (2*std2**2) - np.log(std2/std1)\n",
    "  return np.roots(np.array([a,b,c]))\n",
    "\n",
    "m1 = np.array([0.95, 2.76])\n",
    "sigma_1 = np.array([[0.23,  0.25],[0.25 ,  0.23]])\n",
    "m2 = np.array([2, -2])\n",
    "sigma_2 = np.array([[1,  0.5],\n",
    " [0.5    ,   1]])\n",
    "print(solve(m1, m2, sigma_1, sigma_2))"
   ]
  },
  {
   "cell_type": "code",
   "execution_count": 70,
   "id": "69f733ac",
   "metadata": {},
   "outputs": [
    {
     "name": "stdout",
     "output_type": "stream",
     "text": [
      "Estimated intersection point: [0.98543184 1.47244497]\n"
     ]
    }
   ],
   "source": [
    "import numpy as np\n",
    "from scipy.stats import multivariate_normal\n",
    "\n",
    "mean1 = np.array([0.95, 2.76])  # Mean of the first Gaussian\n",
    "cov1 =  np.array( [[0.23809524, 0.        ],\n",
    " [0.   ,      0.23076923]])  # Covariance matrix of the first Gaussian\n",
    "\n",
    "mean2 = np.array([2, -2])  # Mean of the second Gaussian\n",
    "cov2 = np.array([[1,  0.5],\n",
    " [0.5 ,1]])  # Covariance matrix of the second Gaussian\n",
    "\n",
    "# Create the multivariate Gaussian objects\n",
    "gaussian1 = multivariate_normal(mean=mean1, cov=cov1)\n",
    "gaussian2 = multivariate_normal(mean=mean2, cov=cov2)\n",
    "\n",
    "# Define a function to estimate the intersection point using Monte Carlo sampling\n",
    "def estimate_intersection(gaussian1, gaussian2, num_samples=100000):\n",
    "    # Generate samples from the two Gaussian distributions\n",
    "    samples1 = gaussian1.rvs(num_samples)\n",
    "    samples2 = gaussian2.rvs(num_samples)\n",
    "\n",
    "    # Find the sample that minimizes the distance between the two distributions\n",
    "    distances = np.linalg.norm(samples1 - samples2, axis=1)\n",
    "    min_index = np.argmin(distances)\n",
    "    intersection_point = (samples1[min_index] + samples2[min_index]) / 2.0\n",
    "\n",
    "    return intersection_point\n",
    "\n",
    "# Find the estimated intersection point\n",
    "intersection_point = estimate_intersection(gaussian1, gaussian2)\n",
    "print(\"Estimated intersection point:\", intersection_point)\n",
    "\n"
   ]
  },
  {
   "cell_type": "code",
   "execution_count": null,
   "id": "d6e6e8dc",
   "metadata": {},
   "outputs": [],
   "source": [
    "import numpy as np\n",
    "from sklearn.mixture import GaussianMixture\n",
    "\n",
    "\n",
    "m_eps = np.array([0])\n",
    "sigma_eps = np.array([0.25])\n",
    "# Define the parameters for the prior distribution\n",
    "prior_mean = np.array([0, 0])\n",
    "prior_cov =np.array([[5, 0], [0, 3]])\n",
    "\n",
    "# Generate some noisy observations\n",
    "observations = np.array([[1.8, 2.7], [2.2, 2.9], [2.5, 3.2]])\n",
    "\n",
    "# Create the prior Gaussian distribution\n",
    "prior = GaussianMixture(n_components=1, covariance_type='full')\n",
    "prior.fit([prior_mean], [prior_cov])\n",
    "\n",
    "# Calculate the likelihood of each observation under the prior\n",
    "likelihoods = prior.score_samples(observations)\n",
    "\n",
    "# Update the prior to the posterior using Bayesian updating\n",
    "posterior = GaussianMixture(n_components=1, covariance_type='full')\n",
    "posterior.fit(np.concatenate([observations, np.repeat([prior_mean], len(observations), axis=0)], axis=1), y=likelihoods)\n",
    "\n",
    "# Retrieve the parameters of the posterior Gaussian distribution\n",
    "posterior_mean = posterior.means_[0]\n",
    "posterior_cov = posterior.covariances_[0]\n",
    "\n",
    "print(\"Posterior Mean:\", posterior_mean)\n",
    "print(\"Posterior Covariance Matrix:\")\n",
    "print(posterior_cov)\n"
   ]
  },
  {
   "cell_type": "code",
   "execution_count": 48,
   "id": "4be3a6a1",
   "metadata": {},
   "outputs": [
    {
     "name": "stdout",
     "output_type": "stream",
     "text": [
      "[0.90456835 2.11906572]\n"
     ]
    },
    {
     "name": "stderr",
     "output_type": "stream",
     "text": [
      "/var/folders/6g/4r3hv98n7rd_59qnh959zrsw0000gn/T/ipykernel_7315/3935668377.py:9: RuntimeWarning: covariance is not positive-semidefinite.\n",
      "  normal_dist = np.random.multivariate_normal(mean, cov)\n"
     ]
    }
   ],
   "source": [
    "import numpy as np\n",
    "\n",
    "# Define the parameters for the 2D normal distribution\n",
    "mean = np.array([0.95, 2.76])  # Mean of the first Gaussian\n",
    "cov =  np.array([[0.23, 1. ],\n",
    " [1.  , 0.23]])\n",
    "\n",
    "# Create a 2D normal distribution\n",
    "normal_dist = np.random.multivariate_normal(mean, cov)\n",
    "\n",
    "print(normal_dist)\n"
   ]
  },
  {
   "cell_type": "code",
   "execution_count": null,
   "id": "49737e3e",
   "metadata": {},
   "outputs": [],
   "source": []
  }
 ],
 "metadata": {
  "kernelspec": {
   "display_name": "Python 3 (ipykernel)",
   "language": "python",
   "name": "python3"
  },
  "language_info": {
   "codemirror_mode": {
    "name": "ipython",
    "version": 3
   },
   "file_extension": ".py",
   "mimetype": "text/x-python",
   "name": "python",
   "nbconvert_exporter": "python",
   "pygments_lexer": "ipython3",
   "version": "3.9.16"
  }
 },
 "nbformat": 4,
 "nbformat_minor": 5
}
