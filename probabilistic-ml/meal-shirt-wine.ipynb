{
 "cells": [
  {
   "cell_type": "code",
   "execution_count": 1,
   "id": "8eddb45f",
   "metadata": {},
   "outputs": [],
   "source": [
    "import numpy as np\n",
    "import pandas as pd\n",
    "import pgmpy as mpy\n",
    "from pgmpy.estimators import MmhcEstimator\n",
    "from pgmpy.estimators import BDeuScore, HillClimbSearch\n",
    "from pgmpy.models import BayesianNetwork\n",
    "from pgmpy.factors.discrete import TabularCPD\n",
    "from pgmpy.estimators import BayesianEstimator"
   ]
  },
  {
   "cell_type": "code",
   "execution_count": 2,
   "id": "545ffe42",
   "metadata": {},
   "outputs": [],
   "source": [
    "data = pd.read_csv('Meal-Shirt-Wine.txt', sep=' ')"
   ]
  },
  {
   "cell_type": "markdown",
   "id": "f2d97949",
   "metadata": {},
   "source": [
    "## Create probabilities from data"
   ]
  },
  {
   "cell_type": "code",
   "execution_count": 3,
   "id": "86b94623",
   "metadata": {},
   "outputs": [],
   "source": [
    "from pgmpy.models import BayesianNetwork\n",
    "from pgmpy.factors.discrete import TabularCPD\n",
    "from pgmpy.estimators import BayesianEstimator\n",
    "\n",
    "b_model1 = BayesianNetwork([('Wine','Meal'),('ShirtSleeves','Meal')])\n",
    "b_model2 = BayesianNetwork([('Meal','ShirtSleeves'), ('Meal','Wine'),('ShirtSleeves','Wine')])\n",
    "b_model3 = BayesianNetwork([('Wine','ShirtSleeves'), ('Meal','ShirtSleeves')])\n",
    "b_model4 = BayesianNetwork([('ShirtSleeves', 'Wine'), ('ShirtSleeves', 'Meal')])"
   ]
  },
  {
   "cell_type": "code",
   "execution_count": 4,
   "id": "a38bd57a",
   "metadata": {},
   "outputs": [
    {
     "name": "stdout",
     "output_type": "stream",
     "text": [
      "+-------------+----------+\n",
      "| Wine(red)   | 0.603483 |\n",
      "+-------------+----------+\n",
      "| Wine(white) | 0.396517 |\n",
      "+-------------+----------+\n",
      "+---------------+-----+---------------------+\n",
      "| ShirtSleeves  | ... | ShirtSleeves(short) |\n",
      "+---------------+-----+---------------------+\n",
      "| Wine          | ... | Wine(white)         |\n",
      "+---------------+-----+---------------------+\n",
      "| Meal(chicken) | ... | 0.19180704441041346 |\n",
      "+---------------+-----+---------------------+\n",
      "| Meal(fish)    | ... | 0.30206738131699845 |\n",
      "+---------------+-----+---------------------+\n",
      "| Meal(lamb)    | ... | 0.16730474732006126 |\n",
      "+---------------+-----+---------------------+\n",
      "| Meal(vege)    | ... | 0.3388208269525268  |\n",
      "+---------------+-----+---------------------+\n",
      "+---------------------+----------+\n",
      "| ShirtSleeves(long)  | 0.471144 |\n",
      "+---------------------+----------+\n",
      "| ShirtSleeves(short) | 0.528856 |\n",
      "+---------------------+----------+\n"
     ]
    }
   ],
   "source": [
    "b_model1.fit(data, estimator=BayesianEstimator, prior_type=\"BDeu\") # default equivalent_sample_size=5\n",
    "for cpd in b_model1.get_cpds():\n",
    "    print(cpd)"
   ]
  },
  {
   "cell_type": "markdown",
   "id": "c3320278",
   "metadata": {},
   "source": [
    "## scores of the model"
   ]
  },
  {
   "cell_type": "code",
   "execution_count": 5,
   "id": "28b7f093",
   "metadata": {},
   "outputs": [
    {
     "name": "stdout",
     "output_type": "stream",
     "text": [
      "-2737.8078893034854\n",
      "-2721.6373044941156\n",
      "-2716.2859065833336\n",
      "-2717.623695395062\n"
     ]
    }
   ],
   "source": [
    "from pgmpy.estimators import BDeuScore, K2Score, BicScore\n",
    "\n",
    "\n",
    "bdeu = BDeuScore(data, equivalent_sample_size=5)\n",
    "\n",
    "print(bdeu.score(b_model1))\n",
    "print(bdeu.score(b_model2))\n",
    "print(bdeu.score(b_model3))\n",
    "print(bdeu.score(b_model4))"
   ]
  },
  {
   "cell_type": "code",
   "execution_count": 8,
   "id": "de14ce6a",
   "metadata": {},
   "outputs": [
    {
     "data": {
      "application/vnd.jupyter.widget-view+json": {
       "model_id": "1feddcf9a63f4e56b3c8665ca7e698f0",
       "version_major": 2,
       "version_minor": 0
      },
      "text/plain": [
       "  0%|          | 0/1000000 [00:00<?, ?it/s]"
      ]
     },
     "metadata": {},
     "output_type": "display_data"
    },
    {
     "name": "stdout",
     "output_type": "stream",
     "text": [
      "Part 1) Model:     [('Wine', 'ShirtSleeves'), ('Meal', 'ShirtSleeves')]\n"
     ]
    }
   ],
   "source": [
    "hc = HillClimbSearch(data)\n",
    "model = hc.estimate(scoring_method=BDeuScore(data))\n",
    "print(\"Part 1) Model:    \", model.edges())"
   ]
  },
  {
   "cell_type": "code",
   "execution_count": null,
   "id": "5b097e01",
   "metadata": {},
   "outputs": [],
   "source": []
  }
 ],
 "metadata": {
  "kernelspec": {
   "display_name": "Python 3 (ipykernel)",
   "language": "python",
   "name": "python3"
  },
  "language_info": {
   "codemirror_mode": {
    "name": "ipython",
    "version": 3
   },
   "file_extension": ".py",
   "mimetype": "text/x-python",
   "name": "python",
   "nbconvert_exporter": "python",
   "pygments_lexer": "ipython3",
   "version": "3.9.16"
  }
 },
 "nbformat": 4,
 "nbformat_minor": 5
}
