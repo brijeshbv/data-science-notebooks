{
  "cells": [
    {
      "cell_type": "code",
      "execution_count": null,
      "metadata": {
        "id": "woLgdOWKYfGf"
      },
      "outputs": [],
      "source": [
        "import numpy as np\n",
        "import jax\n",
        "import jax.numpy as jnp\n",
        "import random\n",
        "import math\n",
        "import matplotlib.pyplot as plt\n",
        "from jax.example_libraries import stax, optimizers\n",
        "from sklearn.model_selection import train_test_split\n",
        "from jax import value_and_grad\n",
        "from sklearn.metrics import accuracy_score\n",
        "\n",
        "\n"
      ]
    },
    {
      "cell_type": "code",
      "execution_count": null,
      "metadata": {
        "id": "o-hpmMcsfot8"
      },
      "outputs": [],
      "source": [
        "def plot(images, labels):\n",
        "    fig = plt.figure(figsize=(19,19))\n",
        "    for i, image in enumerate(images):\n",
        "      axs =fig.add_subplot(len(images)/2,len(images)/2,i+1)\n",
        "      plt.title(f\"{map_label(labels[i])}\")\n",
        "      axs.imshow(image, cmap='gray')\n"
      ]
    },
    {
      "cell_type": "code",
      "source": [
        "def map_label(label):\n",
        "  if label == 0:\n",
        "    return 'square'\n",
        "  elif label == 1:\n",
        "    return 'triangle'\n",
        "  else :\n",
        "    return 'circle'"
      ],
      "metadata": {
        "id": "PbuoGzQ4QHW1"
      },
      "execution_count": null,
      "outputs": []
    },
    {
      "cell_type": "code",
      "execution_count": null,
      "metadata": {
        "id": "8awjNtAXV0pW"
      },
      "outputs": [],
      "source": [
        "def draw_rectangle(image):\n",
        "  length, height = image.shape\n",
        "  padding = 3\n",
        "  width_r = int(height/2.5)\n",
        "  height_r = int(height/3)\n",
        "  top_x , top_y = random.choice(range(padding, length - width_r - padding )), random.choice(range(padding, height- height_r - padding))\n",
        "  start_y, end_y = top_y, (top_y+ height_r)\n",
        "  start_x, end_x = top_x, (top_x + width_r)\n",
        "  for i in range(start_y, end_y):\n",
        "    for j in range(start_x, end_x):\n",
        "      image[i, j] = 255.0\n",
        "  if random.random() > 0.5 :\n",
        "    image = np.rot90(image, axes=(1,0))\n",
        "    distort_image(image)\n",
        "  return image"
      ]
    },
    {
      "cell_type": "code",
      "execution_count": null,
      "metadata": {
        "id": "d2D2Sm59TPOv"
      },
      "outputs": [],
      "source": [
        "def draw_triangle(image):\n",
        "  length, height = image.shape\n",
        "  triangle_height = int(height/3)\n",
        "  padding = 3\n",
        "  triangle_width = math.ceil((2/math.sqrt(3))* triangle_height)\n",
        "  x_range = range(int(triangle_width/2) + padding, length - int(triangle_width/2) - padding)\n",
        "  top_x , top_y = random.choice(x_range), random.choice(range(0, height-triangle_height - padding))\n",
        "  start_y, end_y = top_y, (top_y + triangle_height)\n",
        "  start_x = top_x\n",
        "  end_x = start_x\n",
        "  for i in range(start_y, end_y):\n",
        "    for j in range(start_x, end_x):\n",
        "      image[i, j] = 255.0\n",
        "    start_x -=1\n",
        "    end_x +=1\n",
        "  if random.random() > 0.5 :\n",
        "    image = np.rot90(image, axes=(1,0))\n",
        "    distort_image(image)\n",
        "  return image"
      ]
    },
    {
      "cell_type": "code",
      "execution_count": null,
      "metadata": {
        "id": "4aSmziSAbBkf"
      },
      "outputs": [],
      "source": [
        "def draw_circle(image):\n",
        "  length, height = image.shape\n",
        "  padding = 3\n",
        "  radius = (length + height)/9\n",
        "  center_x , center_y = random.choice(range((int(radius)) + padding , length-int(radius) - padding)), random.choice(range((int(radius)) + padding, length-int(radius) - padding))\n",
        "  for i, vector in enumerate(image):\n",
        "    for j, val in enumerate(vector):\n",
        "      dist = dist_bt_pts([i,j],[center_x, center_y])\n",
        "      if (dist < radius):\n",
        "        image[i,j] = 255.0\n",
        "  if random.random() > 0.5 :\n",
        "    distort_image(image)\n",
        "  return image\n"
      ]
    },
    {
      "cell_type": "code",
      "source": [
        "def distort_image(img):\n",
        "  A = img.shape[0] / 10\n",
        "  w = 2/ img.shape[1]\n",
        "\n",
        "  shift = lambda x: A * np.sin(2.0*np.pi*x * w) * random.random()\n",
        "\n",
        "  for i in range(img.shape[0]):\n",
        "    img[:,i] = np.roll(img[:,i], int(shift(i)))\n"
      ],
      "metadata": {
        "id": "I7VGMXF-XH8Y"
      },
      "execution_count": null,
      "outputs": []
    },
    {
      "cell_type": "code",
      "execution_count": null,
      "metadata": {
        "id": "EZYLFz4mfZrH"
      },
      "outputs": [],
      "source": [
        "def dist_bt_pts(a, b):\n",
        "  x1, y1 = a[0], a[1]\n",
        "  x2, y2 = b[0], b[1]\n",
        "  x12 = (x1 - x2)**2\n",
        "  y12 = (y1 - y2)**2\n",
        "  dist = math.sqrt(x12 + y12)\n",
        "  return dist"
      ]
    },
    {
      "cell_type": "code",
      "execution_count": null,
      "metadata": {
        "id": "Z--egrnGY7iC"
      },
      "outputs": [],
      "source": [
        "def create_shape_db(): \n",
        "  no_of_images = 2048\n",
        "  images = np.zeros((no_of_images, 28, 28), dtype=jnp.float32)\n",
        "  image_labels = np.zeros(no_of_images,  dtype=jnp.float32)\n",
        "  choice_of_images = range(1,4)\n",
        "  for i, img in enumerate(images):\n",
        "    choice = random.choice(choice_of_images)\n",
        "    if (choice == 1):\n",
        "        images[i] = draw_rectangle(images[i,:,:])\n",
        "        image_labels[i] = 0\n",
        "    elif (choice == 2):\n",
        "        images[i] = draw_triangle(images[i,:,:])\n",
        "        image_labels[i] = 1\n",
        "    else:\n",
        "        images[i] = draw_circle(images[i,:,:])\n",
        "        image_labels[i] = 2\n",
        "\n",
        "  plot(images[10:20,:,:], image_labels[10:20])\n",
        "  return images, image_labels"
      ]
    },
    {
      "cell_type": "markdown",
      "metadata": {
        "id": "aITU4Or4p5Fj"
      },
      "source": [
        "2048 images of 28 x 28 are created which draw a circle, traingle or square in a uniform random fashion at different locations of the frame, along with appropriately labeled data for learning."
      ]
    },
    {
      "cell_type": "code",
      "execution_count": null,
      "metadata": {
        "colab": {
          "base_uri": "https://localhost:8080/",
          "height": 456
        },
        "id": "uI9Dq2HZaOTC",
        "outputId": "9abb8ae3-66b0-4d96-a8a3-f2ce68df7939"
      },
      "outputs": [
        {
          "output_type": "display_data",
          "data": {
            "text/plain": [
              "<Figure size 1368x1368 with 10 Axes>"
            ],
            "image/png": "[encoded data removed]"
          },
          "metadata": {
            "needs_background": "light"
          }
        }
      ],
      "source": [
        "images_db , image_labels = create_shape_db()"
      ]
    },
    {
      "cell_type": "code",
      "execution_count": null,
      "metadata": {
        "colab": {
          "base_uri": "https://localhost:8080/"
        },
        "id": "15tpuXgCndAd",
        "outputId": "cbf3b982-5ce6-4dad-8709-bd96d3e4bd0d"
      },
      "outputs": [
        {
          "output_type": "execute_result",
          "data": {
            "text/plain": [
              "((1638, 28, 28, 1), (410, 28, 28, 1))"
            ]
          },
          "metadata": {},
          "execution_count": 68
        }
      ],
      "source": [
        "X_train, X_test, y_train, y_test = train_test_split(images_db, image_labels, test_size=0.20, random_state=42)\n",
        "classes =  jnp.unique(y_train)\n",
        "X_train, X_test = X_train/255.0, X_test/255.0\n",
        "X_train , X_test = X_train.reshape(-1, 28,28, 1), X_test.reshape(-1, 28,28, 1)\n",
        "X_train.shape, X_test.shape"
      ]
    },
    {
      "cell_type": "code",
      "execution_count": null,
      "metadata": {
        "id": "uii4BnGG0QDY"
      },
      "outputs": [],
      "source": [
        "conv_init, conv_apply = stax.serial(\n",
        "    stax.Conv(6, (3,3), padding=\"SAME\"),\n",
        "    stax.Relu,\n",
        "    stax.AvgPool((4,4)),\n",
        "    stax.Flatten,\n",
        "    stax.Dense(len(classes)),\n",
        "    stax.Softmax\n",
        ")"
      ]
    },
    {
      "cell_type": "code",
      "execution_count": null,
      "metadata": {
        "colab": {
          "base_uri": "https://localhost:8080/"
        },
        "id": "OhxyF4lhaQ2b",
        "outputId": "4ac82c93-f1bb-4813-ec22-854842c42c33"
      },
      "outputs": [
        {
          "output_type": "stream",
          "name": "stdout",
          "text": [
            "Weights : (3, 3, 1, 6), Biases : (1, 1, 1, 6)\n",
            "Weights : (3750, 3), Biases : (3,)\n"
          ]
        }
      ],
      "source": [
        "rng = jax.random.PRNGKey(123)\n",
        "\n",
        "weights = conv_init(rng, (18,28,28,1))\n",
        "\n",
        "weights = weights[1] ## Weights are actually stored in second element of two value tuple\n",
        "\n",
        "for w in weights:\n",
        "    if w:\n",
        "        w, b = w\n",
        "        print(\"Weights : {}, Biases : {}\".format(w.shape, b.shape))"
      ]
    },
    {
      "cell_type": "code",
      "execution_count": null,
      "metadata": {
        "colab": {
          "base_uri": "https://localhost:8080/"
        },
        "id": "iREfbvu9bzet",
        "outputId": "ab3f8c42-e84e-4bed-db12-99dea647fc92"
      },
      "outputs": [
        {
          "output_type": "execute_result",
          "data": {
            "text/plain": [
              "DeviceArray([[0.28153566, 0.37155795, 0.34690642],\n",
              "             [0.2958105 , 0.34333777, 0.36085168],\n",
              "             [0.31192058, 0.3387306 , 0.34934875],\n",
              "             [0.29388705, 0.36298215, 0.3431308 ],\n",
              "             [0.31387305, 0.34132168, 0.34480524]], dtype=float32)"
            ]
          },
          "metadata": {},
          "execution_count": 71
        }
      ],
      "source": [
        "preds = conv_apply(weights, X_train[:5])\n",
        "\n",
        "preds"
      ]
    },
    {
      "cell_type": "code",
      "execution_count": null,
      "metadata": {
        "id": "PohvfLGUcKE1"
      },
      "outputs": [],
      "source": [
        "def cross_entropy_loss(weights, input_data, actual):\n",
        "    preds = conv_apply(weights, input_data)\n",
        "    one_hot_actual = jax.nn.one_hot(actual, num_classes=len(classes))\n",
        "    log_preds = jnp.log(preds)\n",
        "    theloss = - jnp.sum(one_hot_actual * log_preds)\n",
        "    return theloss"
      ]
    },
    {
      "cell_type": "code",
      "execution_count": null,
      "metadata": {
        "id": "B7gyXRfkhz5r"
      },
      "outputs": [],
      "source": [
        "\n",
        "def train_in_batches(X, Y, epochs, opt_state, batch_size=32):\n",
        "    lossline = jnp.array([0])\n",
        "    for i in range(1, epochs+1):\n",
        "        batches = jnp.arange((X.shape[0]//batch_size)+1) ### Batch Indices\n",
        "        for batch in batches:\n",
        "            if batch != batches[-1]:\n",
        "                start, end = int(batch*batch_size), int(batch*batch_size+batch_size)\n",
        "            else:\n",
        "                start, end = int(batch*batch_size), None\n",
        "\n",
        "            X_batch, Y_batch = X[start:end], Y[start:end] ## Single batch of data\n",
        "\n",
        "            loss, gradients = value_and_grad(cross_entropy_loss)(opt_get_weights(opt_state), X_batch,Y_batch)\n",
        "\n",
        "            ## Update Weights\n",
        "            opt_state = opt_update(i, gradients, opt_state)\n",
        "\n",
        "            lossline = np.append(lossline, loss)\n",
        "\n",
        "        print(\"CrossEntropyLoss : {:.3f}\".format(jnp.array(lossline).mean()))\n",
        "        \n",
        "    fig = plt.figure(figsize=(12,12))\n",
        "    ax = fig.add_subplot(1,1,1)\n",
        "    plt.title('lossline')\n",
        "    ax.set_xlabel('updates across epochs')\n",
        "    ax.set_ylabel('loss')\n",
        "    ax.plot(lossline[1:])\n",
        "    return opt_state"
      ]
    },
    {
      "cell_type": "code",
      "execution_count": null,
      "metadata": {
        "colab": {
          "base_uri": "https://localhost:8080/",
          "height": 1000
        },
        "id": "XPpF3wUyiCms",
        "outputId": "fec216d5-51c0-41f7-855d-b64f6f39adfe"
      },
      "outputs": [
        {
          "output_type": "stream",
          "name": "stdout",
          "text": [
            "CrossEntropyLoss : 66.557\n",
            "CrossEntropyLoss : 67.342\n",
            "CrossEntropyLoss : 67.313\n",
            "CrossEntropyLoss : 67.096\n",
            "CrossEntropyLoss : 66.816\n",
            "CrossEntropyLoss : 66.491\n",
            "CrossEntropyLoss : 66.095\n",
            "CrossEntropyLoss : 65.585\n",
            "CrossEntropyLoss : 64.947\n",
            "CrossEntropyLoss : 64.182\n",
            "CrossEntropyLoss : 63.310\n",
            "CrossEntropyLoss : 62.357\n",
            "CrossEntropyLoss : 61.349\n",
            "CrossEntropyLoss : 60.302\n",
            "CrossEntropyLoss : 59.230\n",
            "CrossEntropyLoss : 58.142\n",
            "CrossEntropyLoss : 57.043\n",
            "CrossEntropyLoss : 55.938\n",
            "CrossEntropyLoss : 54.831\n",
            "CrossEntropyLoss : 53.727\n",
            "CrossEntropyLoss : 52.628\n",
            "CrossEntropyLoss : 51.538\n",
            "CrossEntropyLoss : 50.462\n",
            "CrossEntropyLoss : 49.402\n",
            "CrossEntropyLoss : 48.359\n",
            "CrossEntropyLoss : 47.337\n",
            "CrossEntropyLoss : 46.336\n",
            "CrossEntropyLoss : 45.358\n",
            "CrossEntropyLoss : 44.403\n",
            "CrossEntropyLoss : 43.472\n",
            "CrossEntropyLoss : 42.565\n",
            "CrossEntropyLoss : 41.682\n",
            "CrossEntropyLoss : 40.823\n",
            "CrossEntropyLoss : 39.989\n",
            "CrossEntropyLoss : 39.178\n",
            "CrossEntropyLoss : 38.392\n",
            "CrossEntropyLoss : 37.629\n",
            "CrossEntropyLoss : 36.889\n",
            "CrossEntropyLoss : 36.172\n",
            "CrossEntropyLoss : 35.477\n",
            "CrossEntropyLoss : 34.803\n",
            "CrossEntropyLoss : 34.151\n",
            "CrossEntropyLoss : 33.520\n",
            "CrossEntropyLoss : 32.908\n",
            "CrossEntropyLoss : 32.315\n",
            "CrossEntropyLoss : 31.741\n",
            "CrossEntropyLoss : 31.186\n",
            "CrossEntropyLoss : 30.647\n",
            "CrossEntropyLoss : 30.125\n",
            "CrossEntropyLoss : 29.619\n",
            "CrossEntropyLoss : 29.129\n",
            "CrossEntropyLoss : 28.653\n",
            "CrossEntropyLoss : 28.192\n",
            "CrossEntropyLoss : 27.744\n",
            "CrossEntropyLoss : 27.310\n",
            "CrossEntropyLoss : 26.888\n",
            "CrossEntropyLoss : 26.479\n",
            "CrossEntropyLoss : 26.081\n",
            "CrossEntropyLoss : 25.695\n",
            "CrossEntropyLoss : 25.319\n",
            "CrossEntropyLoss : 24.954\n",
            "CrossEntropyLoss : 24.599\n",
            "CrossEntropyLoss : 24.254\n",
            "CrossEntropyLoss : 23.918\n",
            "CrossEntropyLoss : 23.591\n",
            "CrossEntropyLoss : 23.272\n",
            "CrossEntropyLoss : 22.962\n",
            "CrossEntropyLoss : 22.660\n",
            "CrossEntropyLoss : 22.365\n",
            "CrossEntropyLoss : 22.078\n"
          ]
        },
        {
          "output_type": "display_data",
          "data": {
            "text/plain": [
              "<Figure size 864x864 with 1 Axes>"
            ],
            "image/png": "[encoded data removed]"
          },
          "metadata": {
            "needs_background": "light"
          }
        }
      ],
      "source": [
        "seed = jax.random.PRNGKey(23)\n",
        "learning_rate = jnp.array(1/1e4)\n",
        "epochs = 70\n",
        "batch_size=64\n",
        "\n",
        "weights = conv_init(rng, (batch_size,28,28,1))\n",
        "weights = weights[1]\n",
        "\n",
        "\n",
        "opt_init, opt_update, opt_get_weights = optimizers.sgd(learning_rate)\n",
        "opt_state = opt_init(weights)\n",
        "\n",
        "final_opt_state = train_in_batches(X_train, y_train, epochs, opt_state, batch_size=batch_size)"
      ]
    },
    {
      "cell_type": "code",
      "execution_count": null,
      "metadata": {
        "id": "qLlxlLOziGLJ"
      },
      "outputs": [],
      "source": [
        "\n",
        "\n",
        "def predict(weights, input_data, batch_size=32):\n",
        "    batches = jnp.arange((input_data.shape[0]//batch_size)+1) ### Batch Indices\n",
        "\n",
        "    preds = []\n",
        "    for batch in batches:\n",
        "        if batch != batches[-1]:\n",
        "            start, end = int(batch*batch_size), int(batch*batch_size+batch_size)\n",
        "        else:\n",
        "            start, end = int(batch*batch_size), None\n",
        "\n",
        "        X_batch = input_data[start:end]\n",
        "\n",
        "        if X_batch.shape[0] != 0:\n",
        "            preds.append(conv_apply(weights, X_batch))\n",
        "\n",
        "    return preds\n",
        "\n"
      ]
    },
    {
      "cell_type": "code",
      "execution_count": null,
      "metadata": {
        "id": "Immozsvxie5W"
      },
      "outputs": [],
      "source": [
        "test_preds = predict(opt_get_weights(final_opt_state), X_test, batch_size=batch_size)\n",
        "\n",
        "test_preds = jnp.concatenate(test_preds).squeeze() ## Combine predictions of all batches\n",
        "test_preds = jnp.argmax(test_preds, axis=1)\n",
        "\n",
        "train_preds = predict(opt_get_weights(final_opt_state), X_train, batch_size=batch_size)\n",
        "\n",
        "train_preds = jnp.concatenate(train_preds).squeeze() ## Combine predictions of all batches\n",
        "train_preds = jnp.argmax(train_preds, axis=1)"
      ]
    },
    {
      "cell_type": "code",
      "execution_count": null,
      "metadata": {
        "colab": {
          "base_uri": "https://localhost:8080/"
        },
        "id": "xlRymlJHimmA",
        "outputId": "6d8bbc52-a1e8-489a-b0fa-537093f49af6"
      },
      "outputs": [
        {
          "output_type": "stream",
          "name": "stdout",
          "text": [
            "[2 2 2 0 2 2 1 1 2 0 0 0 2 1 1 1 2 2 0 1 0 1 0 0 0 0 1 2 0 0] [0 2 0 1 1 1 0 1 0 2 1 1 0 0 0 2 1 0 2 0 2 0 0 2 0 1 1 1 2 0]\n",
            "[2 2 2 0 2 2 1 1 2 0 0 0 2 1 1 1 2 2 0 1 0 1 0 0 0 0 1 2 0 0] [0 2 0 1 1 1 0 1 0 2 1 1 0 0 0 2 1 0 2 0 2 0 0 2 0 1 1 1 2 0]\n",
            "Train Accuracy : 1.000\n",
            "Test  Accuracy : 1.000\n"
          ]
        }
      ],
      "source": [
        "one_hot_y_train = jax.nn.one_hot(y_train, num_classes=len(classes))\n",
        "y_train_ind = jnp.argmax(one_hot_y_train, axis=1)\n",
        "\n",
        "one_hot_y_test = jax.nn.one_hot(y_test, num_classes=len(classes))\n",
        "y_test_ind = jnp.argmax(one_hot_y_test, axis=1)\n",
        "\n",
        "\n",
        "print(test_preds[:30], train_preds[:30])\n",
        "print(y_test_ind[:30], y_train_ind[:30])\n",
        "\n",
        "print(\"Train Accuracy : {:.3f}\".format(accuracy_score(y_train_ind, train_preds)))\n",
        "print(\"Test  Accuracy : {:.3f}\".format(accuracy_score(y_test_ind, test_preds)))"
      ]
    },
    {
      "cell_type": "code",
      "execution_count": null,
      "metadata": {
        "id": "uCWm2BZEizty"
      },
      "outputs": [],
      "source": []
    }
  ],
  "metadata": {
    "colab": {
      "collapsed_sections": [],
      "provenance": []
    },
    "kernelspec": {
      "display_name": "Python 3",
      "name": "python3"
    },
    "language_info": {
      "name": "python"
    }
  },
  "nbformat": 4,
  "nbformat_minor": 0
}